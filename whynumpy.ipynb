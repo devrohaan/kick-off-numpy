{
 "cells": [
  {
   "cell_type": "code",
   "execution_count": 17,
   "metadata": {},
   "outputs": [
    {
     "name": "stdout",
     "output_type": "stream",
     "text": [
      "Wisdomic panda\n"
     ]
    }
   ],
   "source": [
    "print(\"Wisdomic panda\")"
   ]
  },
  {
   "cell_type": "code",
   "execution_count": 18,
   "metadata": {},
   "outputs": [
    {
     "name": "stdout",
     "output_type": "stream",
     "text": [
      "Matrix A: Enter Number of rows, m:3\n",
      "Matrix A: Enter Number of columns, n:3\n",
      " Enter Matrix Elements \n",
      "Enter Matix element A[ 0 ] [ 0 ]:2\n",
      "Enter Matix element A[ 0 ] [ 1 ]:0\n",
      "Enter Matix element A[ 0 ] [ 2 ]:0\n",
      "Enter Matix element A[ 1 ] [ 0 ]:0\n",
      "Enter Matix element A[ 1 ] [ 1 ]:2\n",
      "Enter Matix element A[ 1 ] [ 2 ]:0\n",
      "Enter Matix element A[ 2 ] [ 0 ]:0\n",
      "Enter Matix element A[ 2 ] [ 1 ]:0\n",
      "Enter Matix element A[ 2 ] [ 2 ]:2\n"
     ]
    }
   ],
   "source": [
    "# Life Without Numpy: ReAD\n",
    "\n",
    "# Input first Matrix A\n",
    "m = int(input(\"Matrix A: Enter Number of rows, m:\"))\n",
    "n = int(input(\"Matrix A: Enter Number of columns, n:\"))\n",
    "print(\" Enter Matrix Elements \")\n",
    "\n",
    "input_matrixA = []\n",
    "\n",
    "for i in range(m):\n",
    "    input_matrixA.append([])\n",
    "    for j in range(n):\n",
    "        print(\"Enter Matix element A[\",i,\"]\",\"[\",j,\"]:\", end=\"\")\n",
    "        input_matrixA[i].append(int(input()))\n"
   ]
  },
  {
   "cell_type": "code",
   "execution_count": 19,
   "metadata": {},
   "outputs": [
    {
     "data": {
      "text/plain": [
       "[[2, 0, 0], [0, 2, 0], [0, 0, 2]]"
      ]
     },
     "execution_count": 19,
     "metadata": {},
     "output_type": "execute_result"
    }
   ],
   "source": [
    "# method 1\n",
    "input_matrixA"
   ]
  },
  {
   "cell_type": "code",
   "execution_count": 20,
   "metadata": {},
   "outputs": [
    {
     "name": "stdout",
     "output_type": "stream",
     "text": [
      "2 0 0 \n",
      "0 2 0 \n",
      "0 0 2 \n"
     ]
    }
   ],
   "source": [
    "# method 2 \n",
    "for i in range(m):\n",
    "\n",
    "    for j in range(n):\n",
    "\n",
    "        print(input_matrixA[i][j], end=\" \")\n",
    "\n",
    "    print(\"\")\n"
   ]
  },
  {
   "cell_type": "code",
   "execution_count": 23,
   "metadata": {},
   "outputs": [
    {
     "name": "stdout",
     "output_type": "stream",
     "text": [
      "Matrix A:\n",
      "2\t0\t0\n",
      "0\t2\t0\n",
      "0\t0\t2\n"
     ]
    }
   ],
   "source": [
    "# method 3\n",
    "print(\"Matrix A:\")\n",
    "print('\\n'.join(['\\t'.join([str(col) for col in row]) for row in input_matrixA]))"
   ]
  },
  {
   "cell_type": "code",
   "execution_count": 22,
   "metadata": {},
   "outputs": [
    {
     "name": "stdout",
     "output_type": "stream",
     "text": [
      "Matrix B :Enter Number of rows, p:3\n",
      "Matrix B: Enter Number of columns, q:3\n",
      " Enter Matrix Elements \n",
      "Enter Matix element B[ 0 ] [ 0 ]:4\n",
      "Enter Matix element B[ 0 ] [ 1 ]:0\n",
      "Enter Matix element B[ 0 ] [ 2 ]:0\n",
      "Enter Matix element B[ 1 ] [ 0 ]:0\n",
      "Enter Matix element B[ 1 ] [ 1 ]:4\n",
      "Enter Matix element B[ 1 ] [ 2 ]:0\n",
      "Enter Matix element B[ 2 ] [ 0 ]:0\n",
      "Enter Matix element B[ 2 ] [ 1 ]:0\n",
      "Enter Matix element B[ 2 ] [ 2 ]:4\n"
     ]
    }
   ],
   "source": [
    "# Input second Matrix B\n",
    "\n",
    "p = int(input(\"Matrix B :Enter Number of rows, p:\"))\n",
    "q = int(input(\"Matrix B: Enter Number of columns, q:\"))\n",
    "\n",
    "print(\" Enter Matrix Elements \")\n",
    "input_matrixB = []\n",
    "\n",
    "for i in range(p):\n",
    "    input_matrixB.append([0 for _ in range(q)])\n",
    "    for j in range(q):\n",
    "        print(\"Enter Matix element B[\",i,\"]\",\"[\",j,\"]:\", end=\"\")\n",
    "        input_matrixB[i][j] = int(input())\n"
   ]
  },
  {
   "cell_type": "code",
   "execution_count": 26,
   "metadata": {},
   "outputs": [
    {
     "name": "stdout",
     "output_type": "stream",
     "text": [
      "Matrix B:\n",
      "4\t0\t0\n",
      "0\t4\t0\n",
      "0\t0\t4\n"
     ]
    }
   ],
   "source": [
    "print(\"Matrix B:\")\n",
    "print('\\n'.join(['\\t'.join([str(col) for col in row]) for row in input_matrixB]))"
   ]
  },
  {
   "cell_type": "code",
   "execution_count": 28,
   "metadata": {},
   "outputs": [],
   "source": [
    "# Matrix Multiplication\n",
    "\n",
    "# 1. We must initialise an result array with zero elements\n",
    "# 2. Result_matrix will be of dimenson (m*n).(p*q) = m*q\n",
    "\n",
    "result_matrix = [[0 for cols in range(q) ] for rows in range(m)]"
   ]
  },
  {
   "cell_type": "code",
   "execution_count": 29,
   "metadata": {},
   "outputs": [
    {
     "data": {
      "text/plain": [
       "[[0, 0, 0], [0, 0, 0], [0, 0, 0]]"
      ]
     },
     "execution_count": 29,
     "metadata": {},
     "output_type": "execute_result"
    }
   ],
   "source": [
    "result_matrix"
   ]
  },
  {
   "cell_type": "code",
   "execution_count": 34,
   "metadata": {},
   "outputs": [
    {
     "name": "stdout",
     "output_type": "stream",
     "text": [
      "Multiplication AXB:\n",
      "8\t0\t0\n",
      "0\t8\t0\n",
      "0\t0\t8\n"
     ]
    }
   ],
   "source": [
    "# or \n",
    "\n",
    "print(\"Multiplication AXB:\")\n",
    "result_matrix = []\n",
    "for i in range(m):\n",
    "    result_matrix.append([0 for _ in range(q)])\n",
    "    for j in range(q):\n",
    "\n",
    "        for k in range(n):\n",
    "\n",
    "            result_matrix[i][j] = result_matrix[i][j] + input_matrixA[i][k]*input_matrixB[k][j]\n",
    "\n",
    "print(\"\\n\".join(['\\t'.join([str(col) for col in row]) for row in result_matrix]))"
   ]
  },
  {
   "cell_type": "code",
   "execution_count": 40,
   "metadata": {},
   "outputs": [
    {
     "name": "stdout",
     "output_type": "stream",
     "text": [
      "Transpose of result Matrix:\n",
      "8\t0\t0\n",
      "0\t8\t0\n",
      "0\t0\t8\n"
     ]
    }
   ],
   "source": [
    "print(\"Transpose of result Matrix:\")\n",
    "\n",
    "#result  matrix is m*q so transpose will be q*m\n",
    "\n",
    "result_transpose = [[col for col in row] for row in result_matrix]\n",
    "print(\"\\n\".join(['\\t'.join([str(col) for col in row]) for row in result_transpose]))"
   ]
  },
  {
   "cell_type": "code",
   "execution_count": 43,
   "metadata": {},
   "outputs": [
    {
     "name": "stdout",
     "output_type": "stream",
     "text": [
      "8\t0\t0\n",
      "0\t8\t0\n",
      "0\t0\t8\n"
     ]
    }
   ],
   "source": [
    "transpose_matrix2 = [[0 for w in range(m)] for row in range(q)]\n",
    "for i in range(m):\n",
    "\n",
    "    for j in range(q):\n",
    "\n",
    "        transpose_matrix2[j][i] = result_matrix[i][j]\n",
    "print(\"\\n\".join(['\\t'.join([str(col) for col in row]) for row in transpose_matrix2]))  "
   ]
  },
  {
   "cell_type": "code",
   "execution_count": 45,
   "metadata": {},
   "outputs": [
    {
     "name": "stdout",
     "output_type": "stream",
     "text": [
      "Matrix C: Enter Number of rows, a:1\n",
      "Matrix C: Enter Number of columns, b:2\n",
      " Enter Matrix Elements \n",
      "Enter Matix element C[ 0 ] [ 0 ]:2\n",
      "Enter Matix element C[ 0 ] [ 1 ]:3\n",
      "Matrix D: Enter Number of rows, x:2\n",
      "Matrix D: Enter Number of columns, y:3\n",
      " Enter Matrix Elements \n",
      "Enter Matix element D[ 0 ] [ 0 ]:2\n",
      "Enter Matix element D[ 0 ] [ 1 ]:1\n",
      "Enter Matix element D[ 0 ] [ 2 ]:2\n",
      "Enter Matix element D[ 1 ] [ 0 ]:3\n",
      "Enter Matix element D[ 1 ] [ 1 ]:1\n",
      "Enter Matix element D[ 1 ] [ 2 ]:2\n",
      "Multiplication CXD:\n",
      "13\t5\t10\n"
     ]
    }
   ],
   "source": [
    "#above approach works only for symmertric matrices ie 2*2 , 3*3\n",
    "\n",
    "# matrix c is 1*2 \n",
    "# matrix d is 2*3\n",
    "# result M will be 1*3\n",
    "# transpose will br 3*1\n",
    "\n",
    "# Input first Matrix C\n",
    "a = int(input(\"Matrix C: Enter Number of rows, a:\"))\n",
    "b = int(input(\"Matrix C: Enter Number of columns, b:\"))\n",
    "print(\" Enter Matrix Elements \")\n",
    "\n",
    "input_matrixC = []\n",
    "\n",
    "for i in range(a):\n",
    "    input_matrixC.append([])\n",
    "    for j in range(b):\n",
    "        print(\"Enter Matix element C[\",i,\"]\",\"[\",j,\"]:\", end=\"\")\n",
    "        input_matrixC[i].append(int(input()))\n",
    "        \n",
    "\n",
    "# Input first Matrix D\n",
    "x = int(input(\"Matrix D: Enter Number of rows, x:\"))\n",
    "y = int(input(\"Matrix D: Enter Number of columns, y:\"))\n",
    "print(\" Enter Matrix Elements \")\n",
    "\n",
    "input_matrixD = []\n",
    "\n",
    "for i in range(x):\n",
    "    input_matrixD.append([])\n",
    "    for j in range(y):\n",
    "        print(\"Enter Matix element D[\",i,\"]\",\"[\",j,\"]:\", end=\"\")\n",
    "        input_matrixD[i].append(int(input()))\n",
    "\n",
    "print(\"Multiplication CXD:\")\n",
    "result_matrix2 = []\n",
    "for i in range(a):\n",
    "    result_matrix2.append([0 for _ in range(y)])\n",
    "    for j in range(y):\n",
    "\n",
    "        for k in range(b):\n",
    "\n",
    "            result_matrix2[i][j] = result_matrix2[i][j] + input_matrixC[i][k]*input_matrixD[k][j]\n",
    "\n",
    "print(\"\\n\".join(['\\t'.join([str(col) for col in row]) for row in result_matrix2]))"
   ]
  },
  {
   "cell_type": "code",
   "execution_count": 51,
   "metadata": {},
   "outputs": [
    {
     "name": "stdout",
     "output_type": "stream",
     "text": [
      "[[13, 5, 10]]\n",
      "[[13], [5], [10]]\n",
      "Transpose\n",
      "13\n",
      "5\n",
      "10\n"
     ]
    }
   ],
   "source": [
    "'''\n",
    "[[defines the number of cols] this part: how many time the loop rolls so basicaly no of rows]\n",
    "I want no of rows to be equal to the size of the result 0th tuple [[13, 5, 10]] hence we get 3 rows\n",
    "'''\n",
    "transpose_matrix3 = [[result_matrix2[j][i] for j in range(len(result_matrix2))] for i in range(len(result_matrix2[0]))]\n",
    "print(result_matrix2)\n",
    "print(transpose_matrix3)\n",
    "print(\"Transpose\")\n",
    "print(\"\\n\".join(['\\t'.join([str(col) for col in row]) for row in transpose_matrix3]))"
   ]
  },
  {
   "cell_type": "code",
   "execution_count": 1,
   "metadata": {},
   "outputs": [
    {
     "name": "stdout",
     "output_type": "stream",
     "text": [
      "(1, 2, 3)\n",
      "(4, 5, 6)\n",
      "(7, 8, 9)\n",
      "(10, 11, 12)\n",
      "Transpose using zip HACK: \n",
      "(1, 4, 7, 10)\n",
      "(2, 5, 8, 11)\n",
      "(3, 6, 9, 12)\n"
     ]
    }
   ],
   "source": [
    "matrix =[(1,2,3),(4,5,6),(7,8,9),(10,11,12)]\n",
    "for i in matrix:\n",
    "    print(i)\n",
    "\n",
    "print(\"Transpose using zip HACK: \")\n",
    "t_matrix = zip(*matrix)\n",
    "\n",
    "for i in t_matrix:\n",
    "    print(i)\n"
   ]
  },
  {
   "cell_type": "code",
   "execution_count": 2,
   "metadata": {},
   "outputs": [
    {
     "name": "stdout",
     "output_type": "stream",
     "text": [
      "[[1, 4, 7, 10], [2, 5, 8, 11], [3, 6, 9, 12]]\n"
     ]
    }
   ],
   "source": [
    "# hack 2\n",
    "\n",
    "result = map(list, zip(*matrix))\n",
    "\n",
    "\"\"\"\n",
    "The returned value from map() (map object) then can be passed to functions like list() \n",
    "(to create a list), set() (to create a set) and so on.\n",
    "\"\"\"\n",
    "t_matrix = list(result)\n",
    "print(t_matrix)"
   ]
  },
  {
   "cell_type": "code",
   "execution_count": null,
   "metadata": {},
   "outputs": [],
   "source": []
  }
 ],
 "metadata": {
  "kernelspec": {
   "display_name": "Python 3",
   "language": "python",
   "name": "python3"
  },
  "language_info": {
   "codemirror_mode": {
    "name": "ipython",
    "version": 3
   },
   "file_extension": ".py",
   "mimetype": "text/x-python",
   "name": "python",
   "nbconvert_exporter": "python",
   "pygments_lexer": "ipython3",
   "version": "3.6.4"
  }
 },
 "nbformat": 4,
 "nbformat_minor": 2
}
