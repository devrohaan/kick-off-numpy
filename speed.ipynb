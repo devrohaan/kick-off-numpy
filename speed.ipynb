{
 "cells": [
  {
   "cell_type": "code",
   "execution_count": 1,
   "metadata": {},
   "outputs": [],
   "source": [
    "import numpy as np\n",
    "import time\n",
    "import sys"
   ]
  },
  {
   "cell_type": "code",
   "execution_count": 7,
   "metadata": {},
   "outputs": [],
   "source": [
    "#Computation Speed\n",
    "\n",
    "Size = 1000000\n",
    "\n",
    "list1 = range(Size)\n",
    "list2 = range(Size)\n",
    "\n",
    "# Creating two NumPy arrays\n",
    "arr1 = np.arange(Size)\n",
    "arr2 = np.arange(Size)\n"
   ]
  },
  {
   "cell_type": "code",
   "execution_count": 8,
   "metadata": {},
   "outputs": [
    {
     "name": "stdout",
     "output_type": "stream",
     "text": [
      "Time for Python List in seconds:  0.16365504264831543\n",
      "Time for NumPy array in seconds:  0.023793935775756836\n"
     ]
    }
   ],
   "source": [
    "# Python list Speed\n",
    "start = time.time()\n",
    "result = [(x * y) for x, y in zip(list1, list2)]\n",
    "          \n",
    "print(\"Time for Python List in seconds: \", (time.time() - start))\n",
    "\n",
    "# Calculating time for NumPy array\n",
    "start = time.time()\n",
    "result = arr1 *  arr2\n",
    "print(\"Time for NumPy array in seconds: \", (time.time()- start))"
   ]
  },
  {
   "cell_type": "code",
   "execution_count": null,
   "metadata": {},
   "outputs": [],
   "source": []
  },
  {
   "cell_type": "code",
   "execution_count": null,
   "metadata": {},
   "outputs": [],
   "source": []
  }
 ],
 "metadata": {
  "kernelspec": {
   "display_name": "Python 3",
   "language": "python",
   "name": "python3"
  },
  "language_info": {
   "codemirror_mode": {
    "name": "ipython",
    "version": 3
   },
   "file_extension": ".py",
   "mimetype": "text/x-python",
   "name": "python",
   "nbconvert_exporter": "python",
   "pygments_lexer": "ipython3",
   "version": "3.6.4"
  }
 },
 "nbformat": 4,
 "nbformat_minor": 2
}
