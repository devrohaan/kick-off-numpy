{
 "cells": [
  {
   "cell_type": "code",
   "execution_count": 2,
   "metadata": {},
   "outputs": [],
   "source": [
    "import numpy as np\n",
    "import time \n",
    "import sys"
   ]
  },
  {
   "cell_type": "code",
   "execution_count": 6,
   "metadata": {},
   "outputs": [
    {
     "name": "stdout",
     "output_type": "stream",
     "text": [
      "Size of list:  2800  bytes.\n",
      "Size of NumPy array:  800  bytes.\n"
     ]
    }
   ],
   "source": [
    "# List Vs. Numpy\n",
    "\n",
    "# Creating a list with 100 elements\n",
    "\n",
    "list = range(0, 100)\n",
    "# Multiplying size of 1 element with length of the list\n",
    "print(\"Size of list: \", sys.getsizeof(1)*len(list), \" bytes.\")\n",
    "\n",
    "# Creating a NumPy array with 100 elements\n",
    "array = np.arange(100)\n",
    "# array.itemsize : Size of one element\n",
    "# array.size : length of array\n",
    "print(\"Size of NumPy array: \", array.itemsize * array.size, \" bytes.\")\n",
    "\n",
    "\n",
    "\n",
    "#36 bytes is the amount of space required for the list data structure itself on a 32-bit machine.\n"
   ]
  },
  {
   "cell_type": "code",
   "execution_count": null,
   "metadata": {},
   "outputs": [],
   "source": []
  }
 ],
 "metadata": {
  "kernelspec": {
   "display_name": "Python 3",
   "language": "python",
   "name": "python3"
  },
  "language_info": {
   "codemirror_mode": {
    "name": "ipython",
    "version": 3
   },
   "file_extension": ".py",
   "mimetype": "text/x-python",
   "name": "python",
   "nbconvert_exporter": "python",
   "pygments_lexer": "ipython3",
   "version": "3.6.4"
  }
 },
 "nbformat": 4,
 "nbformat_minor": 2
}
